{
 "cells": [
  {
   "cell_type": "code",
   "execution_count": 36,
   "id": "8e8f3c6a-84b1-4012-9f04-db1bee5153fa",
   "metadata": {},
   "outputs": [],
   "source": [
    "import nltk\n",
    "from nltk.corpus import wordnet as wn\n",
    "from nltk.wsd import lesk\n",
    "from nltk import word_tokenize"
   ]
  },
  {
   "cell_type": "code",
   "execution_count": 38,
   "id": "3b0821fc-2022-44fb-89b6-aea965b02d33",
   "metadata": {},
   "outputs": [
    {
     "name": "stderr",
     "output_type": "stream",
     "text": [
      "[nltk_data] Downloading package wordnet to\n",
      "[nltk_data]     C:\\Users\\udaya\\AppData\\Roaming\\nltk_data...\n",
      "[nltk_data]   Package wordnet is already up-to-date!\n",
      "[nltk_data] Downloading package omw-1.4 to\n",
      "[nltk_data]     C:\\Users\\udaya\\AppData\\Roaming\\nltk_data...\n"
     ]
    },
    {
     "data": {
      "text/plain": [
       "True"
      ]
     },
     "execution_count": 38,
     "metadata": {},
     "output_type": "execute_result"
    }
   ],
   "source": [
    "nltk.download('wordnet')\n",
    "nltk.download('omw-1.4')"
   ]
  },
  {
   "cell_type": "code",
   "execution_count": 48,
   "id": "ac2de6fa-62e0-4a23-a878-5918eab25eb1",
   "metadata": {},
   "outputs": [],
   "source": [
    "sentance1 = \"keep your savings in the bank\"\n",
    "sentance2 = \"it is too risky to drive over the banks of the road\""
   ]
  },
  {
   "cell_type": "code",
   "execution_count": 64,
   "id": "b1dfe7e1-e7d0-4da7-aa47-3787d66d4111",
   "metadata": {},
   "outputs": [],
   "source": [
    "def get_synset(sentence, word):\n",
    "    return lesk(word_tokenize(sentence), word)"
   ]
  },
  {
   "cell_type": "code",
   "execution_count": 76,
   "id": "38596617-097a-43ad-be9c-b505d45582f9",
   "metadata": {},
   "outputs": [],
   "source": [
    "bank1 = get_synset(sentance2, \"bank\")"
   ]
  },
  {
   "cell_type": "code",
   "execution_count": 78,
   "id": "b12edf2d-4721-4ac2-a054-085f970912e6",
   "metadata": {},
   "outputs": [
    {
     "name": "stdout",
     "output_type": "stream",
     "text": [
      "a slope in the turn of a road or track; the outside is higher than the inside in order to reduce the effects of centrifugal force\n"
     ]
    }
   ],
   "source": [
    "print(bank1.definition())"
   ]
  },
  {
   "cell_type": "code",
   "execution_count": 82,
   "id": "31f66be2-fc1f-4f9d-b335-44c946951734",
   "metadata": {},
   "outputs": [],
   "source": [
    "bank2 = get_synset(sentance1, \"bank\")"
   ]
  },
  {
   "cell_type": "code",
   "execution_count": 84,
   "id": "93a6cdcd-c306-4cf6-926e-d1008a0987e5",
   "metadata": {},
   "outputs": [
    {
     "name": "stdout",
     "output_type": "stream",
     "text": [
      "a container (usually with a slot in the top) for keeping money at home\n"
     ]
    }
   ],
   "source": [
    "print(bank2.definition())"
   ]
  },
  {
   "cell_type": "markdown",
   "id": "62da5dc2-f6ac-4f78-8f40-da0339b7f5b1",
   "metadata": {},
   "source": [
    "# Sentence Boundary Detection\n",
    "\n",
    "Sentence Boundary Detection (SBD), also known as Sentence Segmentation, is the process of identifying the boundaries between sentences in a given text. This is crucial in many Natural Language Processing (NLP) tasks because well-defined sentences improve tasks like tokenization, parsing, and machine translation.\n",
    "\n",
    "Why is SBD Challenging?\n",
    "\n",
    "- Sentence boundaries are not always clearly marked by simple punctuation like periods (.). There are various ambiguities, such as:\n",
    "\n",
    "- Periods used in abbreviations (e.g., \"Dr.\", \"U.S.\", \"etc.\").\n",
    "- Periods used in numbers (e.g., \"3.14\").\n",
    "- Question marks and exclamation marks within quotes or parentheses.\n",
    "\n",
    "\n",
    "Example of Sentence Boundary Detection:\n",
    "Consider the following text:\n",
    "\n",
    "Dr. Smith went to Washington. He met Mr. Anderson at 10:00 a.m. on Monday.\n",
    "In this case, an SBD system should correctly identify three sentences, despite the periods in abbreviations and time formats:\n",
    "\n",
    "\"Dr. Smith went to Washington.\"\n",
    "\"He met Mr. Anderson at 10:00 a.m.\"\n",
    "\"on Monday.\"\n",
    "\n",
    "Methods for Sentence Boundary Detection:\n",
    "\n",
    "Rule-based Approaches: \n",
    "- These methods rely on predefined rules based on punctuation marks and regular expressions. While effective for simple cases, they often struggle with edge cases like abbreviations and complex sentence structures.\n",
    "\n",
    "Machine Learning-based Approaches: \n",
    "- Modern approaches use machine learning to classify sentence boundaries based on context, punctuation, and word patterns. These methods are more robust and can handle ambiguous cases.\n",
    "\n",
    "Deep Learning Approaches: \n",
    "- Deep learning models such as those based on recurrent neural networks (RNNs) or transformer architectures (e.g., BERT) can be trained on large datasets to detect sentence boundaries effectively.\n",
    "\n",
    "Tools and Libraries for SBD:\n",
    "- NLTK (Natural Language Toolkit): Provides a PunktSentenceTokenizer that uses unsupervised learning to detect sentence boundaries based on punctuation and capitalization patterns.\n",
    "- spaCy: Offers robust sentence segmentation as part of its pipeline using dependency parsing and statistical models.\n",
    "- OpenNLP: An Apache project that includes sentence detection models trained for multiple languages."
   ]
  },
  {
   "cell_type": "code",
   "execution_count": 88,
   "id": "369d0572-518f-4597-ad4b-cb1c9c93c442",
   "metadata": {},
   "outputs": [],
   "source": [
    "from nltk.tokenize import sent_tokenize"
   ]
  },
  {
   "cell_type": "code",
   "execution_count": 90,
   "id": "e534022a-078f-4f02-9517-f7642315257e",
   "metadata": {},
   "outputs": [],
   "source": [
    "def get_sentances(text):\n",
    "    return sent_tokenize(text)"
   ]
  },
  {
   "cell_type": "code",
   "execution_count": 92,
   "id": "db54a424-4df9-44cd-866b-bae764a87c26",
   "metadata": {},
   "outputs": [
    {
     "data": {
      "text/plain": [
       "['Sentence Boundary Detection (SBD), also known as Sentence Segmentation, is the process of identifying the boundaries between sentences in a given text.',\n",
       " 'This is crucial in many Natural Language Processing (NLP) tasks because well-defined sentences improve tasks like tokenization, parsing, and machine translation']"
      ]
     },
     "execution_count": 92,
     "metadata": {},
     "output_type": "execute_result"
    }
   ],
   "source": [
    "get_sentances(\"Sentence Boundary Detection (SBD), also known as Sentence Segmentation, is the process of identifying the boundaries between sentences in a given text. This is crucial in many Natural Language Processing (NLP) tasks because well-defined sentences improve tasks like tokenization, parsing, and machine translation\")"
   ]
  },
  {
   "cell_type": "code",
   "execution_count": 98,
   "id": "6e0be378-c32d-4e8a-a400-4025aefad1c5",
   "metadata": {},
   "outputs": [
    {
     "data": {
      "text/plain": [
       "['Dr. Abdul kalam is scientist.',\n",
       " 'He is most  loved person in India.',\n",
       " 'Mr. Kalam worked as president of India.']"
      ]
     },
     "execution_count": 98,
     "metadata": {},
     "output_type": "execute_result"
    }
   ],
   "source": [
    "get_sentances(\"Dr. Abdul kalam is scientist. He is most  loved person in India. Mr. Kalam worked as president of India.\")"
   ]
  },
  {
   "cell_type": "code",
   "execution_count": null,
   "id": "6acf80a4-c8eb-4be6-994f-e3b8405a53a9",
   "metadata": {},
   "outputs": [],
   "source": []
  },
  {
   "cell_type": "code",
   "execution_count": null,
   "id": "cc4b7bcf-d2c6-407b-9471-b910a88073ff",
   "metadata": {},
   "outputs": [],
   "source": []
  },
  {
   "cell_type": "code",
   "execution_count": null,
   "id": "5850781f-b309-4bba-99d9-2a8b9cb9df83",
   "metadata": {},
   "outputs": [],
   "source": []
  }
 ],
 "metadata": {
  "kernelspec": {
   "display_name": "Python 3 (ipykernel)",
   "language": "python",
   "name": "python3"
  },
  "language_info": {
   "codemirror_mode": {
    "name": "ipython",
    "version": 3
   },
   "file_extension": ".py",
   "mimetype": "text/x-python",
   "name": "python",
   "nbconvert_exporter": "python",
   "pygments_lexer": "ipython3",
   "version": "3.11.7"
  }
 },
 "nbformat": 4,
 "nbformat_minor": 5
}
