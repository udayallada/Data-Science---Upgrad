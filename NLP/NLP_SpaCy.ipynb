{
 "cells": [
  {
   "cell_type": "markdown",
   "id": "61322008-375b-4277-a96f-2c40d6309583",
   "metadata": {},
   "source": [
    "# SpaCy\n",
    "\n",
    "SpaCy is a popular open-source library for Natural Language Processing (NLP) in Python, designed to handle large-scale projects. It provides pre-trained models and is optimized for performance, making it suitable for a variety of tasks such as tokenization, named entity recognition, and part-of-speech tagging."
   ]
  },
  {
   "cell_type": "code",
   "execution_count": null,
   "id": "da5014b0-6e45-4235-9b6d-3ead9d43feb4",
   "metadata": {},
   "outputs": [],
   "source": []
  },
  {
   "cell_type": "code",
   "execution_count": null,
   "id": "ff4bc902-8172-4627-9e47-ba807fec7cb1",
   "metadata": {},
   "outputs": [],
   "source": []
  }
 ],
 "metadata": {
  "kernelspec": {
   "display_name": "Python 3 (ipykernel)",
   "language": "python",
   "name": "python3"
  },
  "language_info": {
   "codemirror_mode": {
    "name": "ipython",
    "version": 3
   },
   "file_extension": ".py",
   "mimetype": "text/x-python",
   "name": "python",
   "nbconvert_exporter": "python",
   "pygments_lexer": "ipython3",
   "version": "3.11.7"
  }
 },
 "nbformat": 4,
 "nbformat_minor": 5
}
